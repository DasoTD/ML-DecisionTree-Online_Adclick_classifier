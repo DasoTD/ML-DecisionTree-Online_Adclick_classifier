{
  "nbformat": 4,
  "nbformat_minor": 0,
  "metadata": {
    "colab": {
      "provenance": [],
      "authorship_tag": "ABX9TyPFh+ZJ9mPFF+DTgrMpNZI3",
      "include_colab_link": true
    },
    "kernelspec": {
      "name": "python3",
      "display_name": "Python 3"
    },
    "language_info": {
      "name": "python"
    }
  },
  "cells": [
    {
      "cell_type": "markdown",
      "metadata": {
        "id": "view-in-github",
        "colab_type": "text"
      },
      "source": [
        "<a href=\"https://colab.research.google.com/github/DasoTD/ML-DecisionTree-Online_Adclick_classifier/blob/main/Credit_Card_Fraud_Classification.ipynb\" target=\"_parent\"><img src=\"https://colab.research.google.com/assets/colab-badge.svg\" alt=\"Open In Colab\"/></a>"
      ]
    },
    {
      "cell_type": "markdown",
      "source": [
        "!pip install openml"
      ],
      "metadata": {
        "id": "FnJyV3VpiYuN"
      }
    },
    {
      "cell_type": "code",
      "source": [
        "!pip install openml scikit-learn pandas"
      ],
      "metadata": {
        "colab": {
          "base_uri": "https://localhost:8080/"
        },
        "id": "qGJ0jmupifsu",
        "outputId": "a3f506d1-19b3-4d7e-c9e3-5bec186bd93d"
      },
      "execution_count": 6,
      "outputs": [
        {
          "output_type": "stream",
          "name": "stdout",
          "text": [
            "Requirement already satisfied: openml in /usr/local/lib/python3.11/dist-packages (0.15.1)\n",
            "Requirement already satisfied: scikit-learn in /usr/local/lib/python3.11/dist-packages (1.6.1)\n",
            "Requirement already satisfied: pandas in /usr/local/lib/python3.11/dist-packages (2.2.2)\n",
            "Requirement already satisfied: liac-arff>=2.4.0 in /usr/local/lib/python3.11/dist-packages (from openml) (2.5.0)\n",
            "Requirement already satisfied: xmltodict in /usr/local/lib/python3.11/dist-packages (from openml) (0.14.2)\n",
            "Requirement already satisfied: requests in /usr/local/lib/python3.11/dist-packages (from openml) (2.32.3)\n",
            "Requirement already satisfied: python-dateutil in /usr/local/lib/python3.11/dist-packages (from openml) (2.9.0.post0)\n",
            "Requirement already satisfied: scipy>=0.13.3 in /usr/local/lib/python3.11/dist-packages (from openml) (1.16.0)\n",
            "Requirement already satisfied: numpy>=1.6.2 in /usr/local/lib/python3.11/dist-packages (from openml) (2.0.2)\n",
            "Requirement already satisfied: minio in /usr/local/lib/python3.11/dist-packages (from openml) (7.2.16)\n",
            "Requirement already satisfied: pyarrow in /usr/local/lib/python3.11/dist-packages (from openml) (18.1.0)\n",
            "Requirement already satisfied: tqdm in /usr/local/lib/python3.11/dist-packages (from openml) (4.67.1)\n",
            "Requirement already satisfied: packaging in /usr/local/lib/python3.11/dist-packages (from openml) (25.0)\n",
            "Requirement already satisfied: joblib>=1.2.0 in /usr/local/lib/python3.11/dist-packages (from scikit-learn) (1.5.1)\n",
            "Requirement already satisfied: threadpoolctl>=3.1.0 in /usr/local/lib/python3.11/dist-packages (from scikit-learn) (3.6.0)\n",
            "Requirement already satisfied: pytz>=2020.1 in /usr/local/lib/python3.11/dist-packages (from pandas) (2025.2)\n",
            "Requirement already satisfied: tzdata>=2022.7 in /usr/local/lib/python3.11/dist-packages (from pandas) (2025.2)\n",
            "Requirement already satisfied: six>=1.5 in /usr/local/lib/python3.11/dist-packages (from python-dateutil->openml) (1.17.0)\n",
            "Requirement already satisfied: argon2-cffi in /usr/local/lib/python3.11/dist-packages (from minio->openml) (25.1.0)\n",
            "Requirement already satisfied: certifi in /usr/local/lib/python3.11/dist-packages (from minio->openml) (2025.7.14)\n",
            "Requirement already satisfied: pycryptodome in /usr/local/lib/python3.11/dist-packages (from minio->openml) (3.23.0)\n",
            "Requirement already satisfied: typing-extensions in /usr/local/lib/python3.11/dist-packages (from minio->openml) (4.14.1)\n",
            "Requirement already satisfied: urllib3 in /usr/local/lib/python3.11/dist-packages (from minio->openml) (2.5.0)\n",
            "Requirement already satisfied: charset-normalizer<4,>=2 in /usr/local/lib/python3.11/dist-packages (from requests->openml) (3.4.2)\n",
            "Requirement already satisfied: idna<4,>=2.5 in /usr/local/lib/python3.11/dist-packages (from requests->openml) (3.10)\n",
            "Requirement already satisfied: argon2-cffi-bindings in /usr/local/lib/python3.11/dist-packages (from argon2-cffi->minio->openml) (21.2.0)\n",
            "Requirement already satisfied: cffi>=1.0.1 in /usr/local/lib/python3.11/dist-packages (from argon2-cffi-bindings->argon2-cffi->minio->openml) (1.17.1)\n",
            "Requirement already satisfied: pycparser in /usr/local/lib/python3.11/dist-packages (from cffi>=1.0.1->argon2-cffi-bindings->argon2-cffi->minio->openml) (2.22)\n"
          ]
        }
      ]
    },
    {
      "cell_type": "code",
      "source": [
        "import openml\n",
        "from sklearn.model_selection import train_test_split\n",
        "from sklearn.ensemble import RandomForestClassifier\n",
        "from sklearn.metrics import accuracy_score\n",
        "\n",
        "dataset = openml.datasets.get_dataset(46455)\n",
        "\n",
        "# Extract features and target (returns X, y)\n",
        "X, y, _, _ = dataset.get_data(target=dataset.default_target_attribute)\n",
        "\n",
        "# Now you can use X and y in your model or analysis\n",
        "print(X.head())\n",
        "print(y[:5])"
      ],
      "metadata": {
        "colab": {
          "base_uri": "https://localhost:8080/"
        },
        "id": "ZYkKJuGsixNu",
        "outputId": "f161f47e-2d67-4167-a52b-eea0ac155bbc"
      },
      "execution_count": 9,
      "outputs": [
        {
          "output_type": "stream",
          "name": "stdout",
          "text": [
            "       time        v1        v2        v3        v4        v5        v6  \\\n",
            "0  123113.0 -4.168525 -4.164323  1.911850  1.130443  4.152041 -2.125948   \n",
            "1   67116.0 -0.241374 -0.043836  1.545847 -0.950404 -0.819948  0.847419   \n",
            "2  125495.0 -2.134432 -2.219310  0.969065 -2.858480  0.693123 -1.315593   \n",
            "3   67705.0 -0.862259 -0.224703  2.308340 -1.941343 -0.321210  1.954794   \n",
            "4   64782.0  1.241610 -0.051895  0.579918 -0.115431 -0.579488 -0.548451   \n",
            "\n",
            "         v7        v8        v9  ...       v20       v21       v22       v23  \\\n",
            "0 -1.803619  0.675859  0.308972  ...  1.213502 -0.058678 -1.673241  0.937707   \n",
            "1 -0.786322 -1.420254  1.645278  ... -0.503410  1.222000 -1.007936 -0.415337   \n",
            "2  0.284006  0.149392  1.182680  ...  0.759475  0.579502  0.743960  0.519019   \n",
            "3 -0.942382  0.729052  0.090916  ...  0.189448  0.121589  0.683341 -0.590164   \n",
            "4 -0.269573 -0.041116  0.353210  ... -0.082169 -0.103847 -0.237586  0.124342   \n",
            "\n",
            "        v24       v25       v26       v27       v28  amount  \n",
            "0 -0.616568  0.780497 -1.055841 -0.154194  0.146745  157.37  \n",
            "1 -0.336823  1.033332  0.848539  0.117121  0.092623   96.35  \n",
            "2 -0.354719  0.373946 -0.319379 -0.056289  0.155978  276.73  \n",
            "3 -1.645139  0.665159 -0.005705  0.219394  0.098477    2.00  \n",
            "4  0.143650  0.053582  0.933286 -0.052477  0.006476    1.54  \n",
            "\n",
            "[5 rows x 30 columns]\n",
            "0    otherwise\n",
            "1    otherwise\n",
            "2    otherwise\n",
            "3    otherwise\n",
            "4    otherwise\n",
            "Name: class, dtype: category\n",
            "Categories (2, object): ['fraud', 'otherwise']\n"
          ]
        }
      ]
    },
    {
      "cell_type": "code",
      "source": [
        "X_train, X_test, y_train, y_test = train_test_split(X, y, test_size=0.2, random_state=42)\n",
        "\n",
        "# Train model\n",
        "model = RandomForestClassifier()\n",
        "model.fit(X_train, y_train)\n",
        "\n",
        "# Evaluate\n",
        "y_pred = model.predict(X_test)\n",
        "print(\"Accuracy:\", accuracy_score(y_test, y_pred))\n"
      ],
      "metadata": {
        "colab": {
          "base_uri": "https://localhost:8080/"
        },
        "id": "tLaFqslxjH35",
        "outputId": "8d3ed1fa-2ce5-44b1-e032-7865426777cb"
      },
      "execution_count": 10,
      "outputs": [
        {
          "output_type": "stream",
          "name": "stdout",
          "text": [
            "Accuracy: 0.9994733146067416\n"
          ]
        }
      ]
    },
    {
      "cell_type": "code",
      "source": [],
      "metadata": {
        "id": "f37QNl78jetw"
      },
      "execution_count": null,
      "outputs": []
    }
  ]
}