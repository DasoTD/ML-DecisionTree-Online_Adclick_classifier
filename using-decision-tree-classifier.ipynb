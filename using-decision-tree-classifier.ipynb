{
 "cells": [
  {
   "cell_type": "code",
   "execution_count": 1,
   "id": "7009d740",
   "metadata": {
    "_cell_guid": "b1076dfc-b9ad-4769-8c92-a6c4dae69d19",
    "_uuid": "8f2839f25d086af736a60e9eeb907d3b93b6e0e5",
    "execution": {
     "iopub.execute_input": "2025-07-15T17:39:40.339250Z",
     "iopub.status.busy": "2025-07-15T17:39:40.338962Z",
     "iopub.status.idle": "2025-07-15T17:39:42.239986Z",
     "shell.execute_reply": "2025-07-15T17:39:42.239019Z"
    },
    "papermill": {
     "duration": 1.907968,
     "end_time": "2025-07-15T17:39:42.241809",
     "exception": false,
     "start_time": "2025-07-15T17:39:40.333841",
     "status": "completed"
    },
    "tags": []
   },
   "outputs": [
    {
     "name": "stdout",
     "output_type": "stream",
     "text": [
      "/kaggle/input/avazu-ctr-prediction/sampleSubmission.gz\n",
      "/kaggle/input/avazu-ctr-prediction/train.gz\n",
      "/kaggle/input/avazu-ctr-prediction/test.gz\n"
     ]
    }
   ],
   "source": [
    "# This Python 3 environment comes with many helpful analytics libraries installed\n",
    "# It is defined by the kaggle/python Docker image: https://github.com/kaggle/docker-python\n",
    "# For example, here's several helpful packages to load\n",
    "\n",
    "import numpy as np # linear algebra\n",
    "import pandas as pd # data processing, CSV file I/O (e.g. pd.read_csv)\n",
    "\n",
    "# Input data files are available in the read-only \"../input/\" directory\n",
    "# For example, running this (by clicking run or pressing Shift+Enter) will list all files under the input directory\n",
    "\n",
    "import os\n",
    "for dirname, _, filenames in os.walk('/kaggle/input'):\n",
    "    for filename in filenames:\n",
    "        print(os.path.join(dirname, filename))\n",
    "\n",
    "# You can write up to 20GB to the current directory (/kaggle/working/) that gets preserved as output when you create a version using \"Save & Run All\" \n",
    "# You can also write temporary files to /kaggle/temp/, but they won't be saved outside of the current session"
   ]
  },
  {
   "cell_type": "code",
   "execution_count": 2,
   "id": "bd692297",
   "metadata": {
    "execution": {
     "iopub.execute_input": "2025-07-15T17:39:42.250855Z",
     "iopub.status.busy": "2025-07-15T17:39:42.250373Z",
     "iopub.status.idle": "2025-07-15T17:40:23.059811Z",
     "shell.execute_reply": "2025-07-15T17:40:23.058770Z"
    },
    "papermill": {
     "duration": 40.817847,
     "end_time": "2025-07-15T17:40:23.063550",
     "exception": false,
     "start_time": "2025-07-15T17:39:42.245703",
     "status": "completed"
    },
    "tags": []
   },
   "outputs": [
    {
     "name": "stdout",
     "output_type": "stream",
     "text": [
      "Extraction complete! File saved as: /kaggle/working/train.csv\n"
     ]
    }
   ],
   "source": [
    "import gzip\n",
    "import shutil\n",
    "\n",
    "input_path = '/kaggle/input/avazu-ctr-prediction/train.gz'\n",
    "output_path = '/kaggle/working/train.csv'\n",
    "\n",
    "with gzip.open(input_path, 'rb') as f_in:\n",
    "    with open(output_path, 'wb') as f_out:\n",
    "        shutil.copyfileobj(f_in, f_out)\n",
    "\n",
    "print(\"Extraction complete! File saved as:\", output_path)\n"
   ]
  },
  {
   "cell_type": "code",
   "execution_count": 3,
   "id": "5eb77ec7",
   "metadata": {
    "execution": {
     "iopub.execute_input": "2025-07-15T17:40:23.071576Z",
     "iopub.status.busy": "2025-07-15T17:40:23.071274Z",
     "iopub.status.idle": "2025-07-15T17:40:24.314904Z",
     "shell.execute_reply": "2025-07-15T17:40:24.314101Z"
    },
    "papermill": {
     "duration": 1.250069,
     "end_time": "2025-07-15T17:40:24.317074",
     "exception": false,
     "start_time": "2025-07-15T17:40:23.067005",
     "status": "completed"
    },
    "tags": []
   },
   "outputs": [
    {
     "data": {
      "text/html": [
       "<div>\n",
       "<style scoped>\n",
       "    .dataframe tbody tr th:only-of-type {\n",
       "        vertical-align: middle;\n",
       "    }\n",
       "\n",
       "    .dataframe tbody tr th {\n",
       "        vertical-align: top;\n",
       "    }\n",
       "\n",
       "    .dataframe thead th {\n",
       "        text-align: right;\n",
       "    }\n",
       "</style>\n",
       "<table border=\"1\" class=\"dataframe\">\n",
       "  <thead>\n",
       "    <tr style=\"text-align: right;\">\n",
       "      <th></th>\n",
       "      <th>id</th>\n",
       "      <th>click</th>\n",
       "      <th>hour</th>\n",
       "      <th>C1</th>\n",
       "      <th>banner_pos</th>\n",
       "      <th>site_id</th>\n",
       "      <th>site_domain</th>\n",
       "      <th>site_category</th>\n",
       "      <th>app_id</th>\n",
       "      <th>app_domain</th>\n",
       "      <th>...</th>\n",
       "      <th>device_type</th>\n",
       "      <th>device_conn_type</th>\n",
       "      <th>C14</th>\n",
       "      <th>C15</th>\n",
       "      <th>C16</th>\n",
       "      <th>C17</th>\n",
       "      <th>C18</th>\n",
       "      <th>C19</th>\n",
       "      <th>C20</th>\n",
       "      <th>C21</th>\n",
       "    </tr>\n",
       "  </thead>\n",
       "  <tbody>\n",
       "    <tr>\n",
       "      <th>0</th>\n",
       "      <td>1.000009e+18</td>\n",
       "      <td>0</td>\n",
       "      <td>14102100</td>\n",
       "      <td>1005</td>\n",
       "      <td>0</td>\n",
       "      <td>1fbe01fe</td>\n",
       "      <td>f3845767</td>\n",
       "      <td>28905ebd</td>\n",
       "      <td>ecad2386</td>\n",
       "      <td>7801e8d9</td>\n",
       "      <td>...</td>\n",
       "      <td>1</td>\n",
       "      <td>2</td>\n",
       "      <td>15706</td>\n",
       "      <td>320</td>\n",
       "      <td>50</td>\n",
       "      <td>1722</td>\n",
       "      <td>0</td>\n",
       "      <td>35</td>\n",
       "      <td>-1</td>\n",
       "      <td>79</td>\n",
       "    </tr>\n",
       "    <tr>\n",
       "      <th>1</th>\n",
       "      <td>1.000017e+19</td>\n",
       "      <td>0</td>\n",
       "      <td>14102100</td>\n",
       "      <td>1005</td>\n",
       "      <td>0</td>\n",
       "      <td>1fbe01fe</td>\n",
       "      <td>f3845767</td>\n",
       "      <td>28905ebd</td>\n",
       "      <td>ecad2386</td>\n",
       "      <td>7801e8d9</td>\n",
       "      <td>...</td>\n",
       "      <td>1</td>\n",
       "      <td>0</td>\n",
       "      <td>15704</td>\n",
       "      <td>320</td>\n",
       "      <td>50</td>\n",
       "      <td>1722</td>\n",
       "      <td>0</td>\n",
       "      <td>35</td>\n",
       "      <td>100084</td>\n",
       "      <td>79</td>\n",
       "    </tr>\n",
       "    <tr>\n",
       "      <th>2</th>\n",
       "      <td>1.000037e+19</td>\n",
       "      <td>0</td>\n",
       "      <td>14102100</td>\n",
       "      <td>1005</td>\n",
       "      <td>0</td>\n",
       "      <td>1fbe01fe</td>\n",
       "      <td>f3845767</td>\n",
       "      <td>28905ebd</td>\n",
       "      <td>ecad2386</td>\n",
       "      <td>7801e8d9</td>\n",
       "      <td>...</td>\n",
       "      <td>1</td>\n",
       "      <td>0</td>\n",
       "      <td>15704</td>\n",
       "      <td>320</td>\n",
       "      <td>50</td>\n",
       "      <td>1722</td>\n",
       "      <td>0</td>\n",
       "      <td>35</td>\n",
       "      <td>100084</td>\n",
       "      <td>79</td>\n",
       "    </tr>\n",
       "    <tr>\n",
       "      <th>3</th>\n",
       "      <td>1.000064e+19</td>\n",
       "      <td>0</td>\n",
       "      <td>14102100</td>\n",
       "      <td>1005</td>\n",
       "      <td>0</td>\n",
       "      <td>1fbe01fe</td>\n",
       "      <td>f3845767</td>\n",
       "      <td>28905ebd</td>\n",
       "      <td>ecad2386</td>\n",
       "      <td>7801e8d9</td>\n",
       "      <td>...</td>\n",
       "      <td>1</td>\n",
       "      <td>0</td>\n",
       "      <td>15706</td>\n",
       "      <td>320</td>\n",
       "      <td>50</td>\n",
       "      <td>1722</td>\n",
       "      <td>0</td>\n",
       "      <td>35</td>\n",
       "      <td>100084</td>\n",
       "      <td>79</td>\n",
       "    </tr>\n",
       "    <tr>\n",
       "      <th>4</th>\n",
       "      <td>1.000068e+19</td>\n",
       "      <td>0</td>\n",
       "      <td>14102100</td>\n",
       "      <td>1005</td>\n",
       "      <td>1</td>\n",
       "      <td>fe8cc448</td>\n",
       "      <td>9166c161</td>\n",
       "      <td>0569f928</td>\n",
       "      <td>ecad2386</td>\n",
       "      <td>7801e8d9</td>\n",
       "      <td>...</td>\n",
       "      <td>1</td>\n",
       "      <td>0</td>\n",
       "      <td>18993</td>\n",
       "      <td>320</td>\n",
       "      <td>50</td>\n",
       "      <td>2161</td>\n",
       "      <td>0</td>\n",
       "      <td>35</td>\n",
       "      <td>-1</td>\n",
       "      <td>157</td>\n",
       "    </tr>\n",
       "  </tbody>\n",
       "</table>\n",
       "<p>5 rows × 24 columns</p>\n",
       "</div>"
      ],
      "text/plain": [
       "             id  click      hour    C1  banner_pos   site_id site_domain  \\\n",
       "0  1.000009e+18      0  14102100  1005           0  1fbe01fe    f3845767   \n",
       "1  1.000017e+19      0  14102100  1005           0  1fbe01fe    f3845767   \n",
       "2  1.000037e+19      0  14102100  1005           0  1fbe01fe    f3845767   \n",
       "3  1.000064e+19      0  14102100  1005           0  1fbe01fe    f3845767   \n",
       "4  1.000068e+19      0  14102100  1005           1  fe8cc448    9166c161   \n",
       "\n",
       "  site_category    app_id app_domain  ... device_type device_conn_type    C14  \\\n",
       "0      28905ebd  ecad2386   7801e8d9  ...           1                2  15706   \n",
       "1      28905ebd  ecad2386   7801e8d9  ...           1                0  15704   \n",
       "2      28905ebd  ecad2386   7801e8d9  ...           1                0  15704   \n",
       "3      28905ebd  ecad2386   7801e8d9  ...           1                0  15706   \n",
       "4      0569f928  ecad2386   7801e8d9  ...           1                0  18993   \n",
       "\n",
       "   C15  C16   C17  C18  C19     C20  C21  \n",
       "0  320   50  1722    0   35      -1   79  \n",
       "1  320   50  1722    0   35  100084   79  \n",
       "2  320   50  1722    0   35  100084   79  \n",
       "3  320   50  1722    0   35  100084   79  \n",
       "4  320   50  2161    0   35      -1  157  \n",
       "\n",
       "[5 rows x 24 columns]"
      ]
     },
     "execution_count": 3,
     "metadata": {},
     "output_type": "execute_result"
    }
   ],
   "source": [
    "n_rows = 300000\n",
    "\n",
    "# Load 300,000 rows from the compressed train.gz file\n",
    "df = pd.read_csv(\"/kaggle/working/train.csv\", nrows=n_rows)\n",
    "\n",
    "# Preview the data\n",
    "df.head()"
   ]
  },
  {
   "cell_type": "code",
   "execution_count": 4,
   "id": "5f808c5b",
   "metadata": {
    "execution": {
     "iopub.execute_input": "2025-07-15T17:40:24.355351Z",
     "iopub.status.busy": "2025-07-15T17:40:24.354617Z",
     "iopub.status.idle": "2025-07-15T17:40:24.360404Z",
     "shell.execute_reply": "2025-07-15T17:40:24.359437Z"
    },
    "papermill": {
     "duration": 0.029611,
     "end_time": "2025-07-15T17:40:24.362472",
     "exception": false,
     "start_time": "2025-07-15T17:40:24.332861",
     "status": "completed"
    },
    "tags": []
   },
   "outputs": [],
   "source": [
    "Y = df['click'].values"
   ]
  },
  {
   "cell_type": "code",
   "execution_count": 1,
   "id": "e956d012",
   "metadata": {
    "execution": {
     "iopub.execute_input": "2025-07-15T17:40:24.382320Z",
     "iopub.status.busy": "2025-07-15T17:40:24.382024Z",
     "iopub.status.idle": "2025-07-15T17:40:26.314832Z",
     "shell.execute_reply": "2025-07-15T17:40:26.313907Z"
    },
    "papermill": {
     "duration": 1.93926,
     "end_time": "2025-07-15T17:40:26.316559",
     "exception": false,
     "start_time": "2025-07-15T17:40:24.377299",
     "status": "completed"
    },
    "tags": []
   },
   "outputs": [],
   "source": [
    "from sklearn.preprocessing import OneHotEncoder\n",
    "from sklearn.model_selection import train_test_split, GridSearchCV\n",
    "from sklearn.tree import DecisionTreeClassifier"
   ]
  },
  {
   "cell_type": "code",
   "execution_count": 6,
   "id": "837fc27c",
   "metadata": {
    "execution": {
     "iopub.execute_input": "2025-07-15T17:40:26.325527Z",
     "iopub.status.busy": "2025-07-15T17:40:26.325099Z",
     "iopub.status.idle": "2025-07-15T17:40:26.339099Z",
     "shell.execute_reply": "2025-07-15T17:40:26.338248Z"
    },
    "papermill": {
     "duration": 0.020247,
     "end_time": "2025-07-15T17:40:26.340737",
     "exception": false,
     "start_time": "2025-07-15T17:40:26.320490",
     "status": "completed"
    },
    "tags": []
   },
   "outputs": [],
   "source": [
    "X = df.drop(['click', 'id', 'hour', 'device_id', 'device_ip', 'site_id', 'site_domain', 'site_category', 'app_id', 'app_domain', 'app_category', 'device_id', 'device_ip', 'device_model'], axis=1).values\n",
    "# X = df.drop(columns=[\"id\", \"click\"])"
   ]
  },
  {
   "cell_type": "code",
   "execution_count": 7,
   "id": "f629794c",
   "metadata": {
    "execution": {
     "iopub.execute_input": "2025-07-15T17:40:26.349544Z",
     "iopub.status.busy": "2025-07-15T17:40:26.349259Z",
     "iopub.status.idle": "2025-07-15T17:40:26.353508Z",
     "shell.execute_reply": "2025-07-15T17:40:26.352616Z"
    },
    "papermill": {
     "duration": 0.010411,
     "end_time": "2025-07-15T17:40:26.355007",
     "exception": false,
     "start_time": "2025-07-15T17:40:26.344596",
     "status": "completed"
    },
    "tags": []
   },
   "outputs": [],
   "source": [
    "enc = OneHotEncoder(handle_unknown= 'ignore')"
   ]
  },
  {
   "cell_type": "code",
   "execution_count": 9,
   "id": "9569ab7a",
   "metadata": {
    "execution": {
     "iopub.execute_input": "2025-07-15T17:40:26.380556Z",
     "iopub.status.busy": "2025-07-15T17:40:26.379744Z",
     "iopub.status.idle": "2025-07-15T17:40:26.466209Z",
     "shell.execute_reply": "2025-07-15T17:40:26.465386Z"
    },
    "papermill": {
     "duration": 0.09275,
     "end_time": "2025-07-15T17:40:26.467891",
     "exception": false,
     "start_time": "2025-07-15T17:40:26.375141",
     "status": "completed"
    },
    "tags": []
   },
   "outputs": [],
   "source": [
    "# 80/20 split for training and testing\n",
    "\n",
    "X_train, X_test, Y_train, Y_test = train_test_split(X, Y, test_size=0.2, random_state=42)"
   ]
  },
  {
   "cell_type": "code",
   "execution_count": 10,
   "id": "406c9078",
   "metadata": {
    "execution": {
     "iopub.execute_input": "2025-07-15T17:40:26.481035Z",
     "iopub.status.busy": "2025-07-15T17:40:26.480616Z",
     "iopub.status.idle": "2025-07-15T17:40:26.850653Z",
     "shell.execute_reply": "2025-07-15T17:40:26.849718Z"
    },
    "papermill": {
     "duration": 0.379242,
     "end_time": "2025-07-15T17:40:26.852162",
     "exception": false,
     "start_time": "2025-07-15T17:40:26.472920",
     "status": "completed"
    },
    "tags": []
   },
   "outputs": [
    {
     "name": "stdout",
     "output_type": "stream",
     "text": [
      "<Compressed Sparse Row sparse matrix of dtype 'float64'\n",
      "\twith 12 stored elements and shape (1, 901)>\n",
      "  Coords\tValues\n",
      "  (0, 2)\t1.0\n",
      "  (0, 7)\t1.0\n",
      "  (0, 13)\t1.0\n",
      "  (0, 16)\t1.0\n",
      "  (0, 257)\t1.0\n",
      "  (0, 522)\t1.0\n",
      "  (0, 526)\t1.0\n",
      "  (0, 602)\t1.0\n",
      "  (0, 675)\t1.0\n",
      "  (0, 680)\t1.0\n",
      "  (0, 719)\t1.0\n",
      "  (0, 899)\t1.0\n"
     ]
    }
   ],
   "source": [
    "\n",
    "enc_X_train =  enc.fit_transform(X_train)\n",
    "print(enc_X_train[0])"
   ]
  },
  {
   "cell_type": "code",
   "execution_count": 11,
   "id": "3ddfcd42",
   "metadata": {
    "execution": {
     "iopub.execute_input": "2025-07-15T17:40:26.861192Z",
     "iopub.status.busy": "2025-07-15T17:40:26.860635Z",
     "iopub.status.idle": "2025-07-15T17:40:26.931756Z",
     "shell.execute_reply": "2025-07-15T17:40:26.930799Z"
    },
    "papermill": {
     "duration": 0.077419,
     "end_time": "2025-07-15T17:40:26.933458",
     "exception": false,
     "start_time": "2025-07-15T17:40:26.856039",
     "status": "completed"
    },
    "tags": []
   },
   "outputs": [],
   "source": [
    "enc_X_test = enc.transform(X_test)"
   ]
  },
  {
   "cell_type": "code",
   "execution_count": 12,
   "id": "ea80997e",
   "metadata": {
    "execution": {
     "iopub.execute_input": "2025-07-15T17:40:26.942310Z",
     "iopub.status.busy": "2025-07-15T17:40:26.941978Z",
     "iopub.status.idle": "2025-07-15T17:40:26.946707Z",
     "shell.execute_reply": "2025-07-15T17:40:26.945822Z"
    },
    "papermill": {
     "duration": 0.010817,
     "end_time": "2025-07-15T17:40:26.948183",
     "exception": false,
     "start_time": "2025-07-15T17:40:26.937366",
     "status": "completed"
    },
    "tags": []
   },
   "outputs": [],
   "source": [
    "decision_tree = DecisionTreeClassifier(criterion='gini', min_samples_split=30)\n",
    "parameters = {'max_depth': [3, 10, None]}"
   ]
  },
  {
   "cell_type": "code",
   "execution_count": 13,
   "id": "ce0b8b90",
   "metadata": {
    "execution": {
     "iopub.execute_input": "2025-07-15T17:40:26.957543Z",
     "iopub.status.busy": "2025-07-15T17:40:26.956711Z",
     "iopub.status.idle": "2025-07-15T17:40:26.961443Z",
     "shell.execute_reply": "2025-07-15T17:40:26.960469Z"
    },
    "papermill": {
     "duration": 0.010865,
     "end_time": "2025-07-15T17:40:26.962877",
     "exception": false,
     "start_time": "2025-07-15T17:40:26.952012",
     "status": "completed"
    },
    "tags": []
   },
   "outputs": [],
   "source": [
    "grid_search = GridSearchCV(decision_tree, parameters, n_jobs=-1, cv=3, scoring='roc_auc')"
   ]
  },
  {
   "cell_type": "code",
   "execution_count": 14,
   "id": "155b5a21",
   "metadata": {
    "execution": {
     "iopub.execute_input": "2025-07-15T17:40:26.972043Z",
     "iopub.status.busy": "2025-07-15T17:40:26.971476Z",
     "iopub.status.idle": "2025-07-15T17:40:30.464556Z",
     "shell.execute_reply": "2025-07-15T17:40:30.463601Z"
    },
    "papermill": {
     "duration": 3.49922,
     "end_time": "2025-07-15T17:40:30.466002",
     "exception": false,
     "start_time": "2025-07-15T17:40:26.966782",
     "status": "completed"
    },
    "tags": []
   },
   "outputs": [
    {
     "data": {
      "text/html": [
       "<style>#sk-container-id-1 {color: black;background-color: white;}#sk-container-id-1 pre{padding: 0;}#sk-container-id-1 div.sk-toggleable {background-color: white;}#sk-container-id-1 label.sk-toggleable__label {cursor: pointer;display: block;width: 100%;margin-bottom: 0;padding: 0.3em;box-sizing: border-box;text-align: center;}#sk-container-id-1 label.sk-toggleable__label-arrow:before {content: \"▸\";float: left;margin-right: 0.25em;color: #696969;}#sk-container-id-1 label.sk-toggleable__label-arrow:hover:before {color: black;}#sk-container-id-1 div.sk-estimator:hover label.sk-toggleable__label-arrow:before {color: black;}#sk-container-id-1 div.sk-toggleable__content {max-height: 0;max-width: 0;overflow: hidden;text-align: left;background-color: #f0f8ff;}#sk-container-id-1 div.sk-toggleable__content pre {margin: 0.2em;color: black;border-radius: 0.25em;background-color: #f0f8ff;}#sk-container-id-1 input.sk-toggleable__control:checked~div.sk-toggleable__content {max-height: 200px;max-width: 100%;overflow: auto;}#sk-container-id-1 input.sk-toggleable__control:checked~label.sk-toggleable__label-arrow:before {content: \"▾\";}#sk-container-id-1 div.sk-estimator input.sk-toggleable__control:checked~label.sk-toggleable__label {background-color: #d4ebff;}#sk-container-id-1 div.sk-label input.sk-toggleable__control:checked~label.sk-toggleable__label {background-color: #d4ebff;}#sk-container-id-1 input.sk-hidden--visually {border: 0;clip: rect(1px 1px 1px 1px);clip: rect(1px, 1px, 1px, 1px);height: 1px;margin: -1px;overflow: hidden;padding: 0;position: absolute;width: 1px;}#sk-container-id-1 div.sk-estimator {font-family: monospace;background-color: #f0f8ff;border: 1px dotted black;border-radius: 0.25em;box-sizing: border-box;margin-bottom: 0.5em;}#sk-container-id-1 div.sk-estimator:hover {background-color: #d4ebff;}#sk-container-id-1 div.sk-parallel-item::after {content: \"\";width: 100%;border-bottom: 1px solid gray;flex-grow: 1;}#sk-container-id-1 div.sk-label:hover label.sk-toggleable__label {background-color: #d4ebff;}#sk-container-id-1 div.sk-serial::before {content: \"\";position: absolute;border-left: 1px solid gray;box-sizing: border-box;top: 0;bottom: 0;left: 50%;z-index: 0;}#sk-container-id-1 div.sk-serial {display: flex;flex-direction: column;align-items: center;background-color: white;padding-right: 0.2em;padding-left: 0.2em;position: relative;}#sk-container-id-1 div.sk-item {position: relative;z-index: 1;}#sk-container-id-1 div.sk-parallel {display: flex;align-items: stretch;justify-content: center;background-color: white;position: relative;}#sk-container-id-1 div.sk-item::before, #sk-container-id-1 div.sk-parallel-item::before {content: \"\";position: absolute;border-left: 1px solid gray;box-sizing: border-box;top: 0;bottom: 0;left: 50%;z-index: -1;}#sk-container-id-1 div.sk-parallel-item {display: flex;flex-direction: column;z-index: 1;position: relative;background-color: white;}#sk-container-id-1 div.sk-parallel-item:first-child::after {align-self: flex-end;width: 50%;}#sk-container-id-1 div.sk-parallel-item:last-child::after {align-self: flex-start;width: 50%;}#sk-container-id-1 div.sk-parallel-item:only-child::after {width: 0;}#sk-container-id-1 div.sk-dashed-wrapped {border: 1px dashed gray;margin: 0 0.4em 0.5em 0.4em;box-sizing: border-box;padding-bottom: 0.4em;background-color: white;}#sk-container-id-1 div.sk-label label {font-family: monospace;font-weight: bold;display: inline-block;line-height: 1.2em;}#sk-container-id-1 div.sk-label-container {text-align: center;}#sk-container-id-1 div.sk-container {/* jupyter's `normalize.less` sets `[hidden] { display: none; }` but bootstrap.min.css set `[hidden] { display: none !important; }` so we also need the `!important` here to be able to override the default hidden behavior on the sphinx rendered scikit-learn.org. See: https://github.com/scikit-learn/scikit-learn/issues/21755 */display: inline-block !important;position: relative;}#sk-container-id-1 div.sk-text-repr-fallback {display: none;}</style><div id=\"sk-container-id-1\" class=\"sk-top-container\"><div class=\"sk-text-repr-fallback\"><pre>GridSearchCV(cv=3, estimator=DecisionTreeClassifier(min_samples_split=30),\n",
       "             n_jobs=-1, param_grid={&#x27;max_depth&#x27;: [3, 10, None]},\n",
       "             scoring=&#x27;roc_auc&#x27;)</pre><b>In a Jupyter environment, please rerun this cell to show the HTML representation or trust the notebook. <br />On GitHub, the HTML representation is unable to render, please try loading this page with nbviewer.org.</b></div><div class=\"sk-container\" hidden><div class=\"sk-item sk-dashed-wrapped\"><div class=\"sk-label-container\"><div class=\"sk-label sk-toggleable\"><input class=\"sk-toggleable__control sk-hidden--visually\" id=\"sk-estimator-id-1\" type=\"checkbox\" ><label for=\"sk-estimator-id-1\" class=\"sk-toggleable__label sk-toggleable__label-arrow\">GridSearchCV</label><div class=\"sk-toggleable__content\"><pre>GridSearchCV(cv=3, estimator=DecisionTreeClassifier(min_samples_split=30),\n",
       "             n_jobs=-1, param_grid={&#x27;max_depth&#x27;: [3, 10, None]},\n",
       "             scoring=&#x27;roc_auc&#x27;)</pre></div></div></div><div class=\"sk-parallel\"><div class=\"sk-parallel-item\"><div class=\"sk-item\"><div class=\"sk-label-container\"><div class=\"sk-label sk-toggleable\"><input class=\"sk-toggleable__control sk-hidden--visually\" id=\"sk-estimator-id-2\" type=\"checkbox\" ><label for=\"sk-estimator-id-2\" class=\"sk-toggleable__label sk-toggleable__label-arrow\">estimator: DecisionTreeClassifier</label><div class=\"sk-toggleable__content\"><pre>DecisionTreeClassifier(min_samples_split=30)</pre></div></div></div><div class=\"sk-serial\"><div class=\"sk-item\"><div class=\"sk-estimator sk-toggleable\"><input class=\"sk-toggleable__control sk-hidden--visually\" id=\"sk-estimator-id-3\" type=\"checkbox\" ><label for=\"sk-estimator-id-3\" class=\"sk-toggleable__label sk-toggleable__label-arrow\">DecisionTreeClassifier</label><div class=\"sk-toggleable__content\"><pre>DecisionTreeClassifier(min_samples_split=30)</pre></div></div></div></div></div></div></div></div></div></div>"
      ],
      "text/plain": [
       "GridSearchCV(cv=3, estimator=DecisionTreeClassifier(min_samples_split=30),\n",
       "             n_jobs=-1, param_grid={'max_depth': [3, 10, None]},\n",
       "             scoring='roc_auc')"
      ]
     },
     "execution_count": 14,
     "metadata": {},
     "output_type": "execute_result"
    }
   ],
   "source": [
    "grid_search.fit(X_train, Y_train)\n"
   ]
  },
  {
   "cell_type": "code",
   "execution_count": 15,
   "id": "7bfc2640",
   "metadata": {
    "execution": {
     "iopub.execute_input": "2025-07-15T17:40:30.476172Z",
     "iopub.status.busy": "2025-07-15T17:40:30.475136Z",
     "iopub.status.idle": "2025-07-15T17:40:30.480617Z",
     "shell.execute_reply": "2025-07-15T17:40:30.479560Z"
    },
    "papermill": {
     "duration": 0.012022,
     "end_time": "2025-07-15T17:40:30.482233",
     "exception": false,
     "start_time": "2025-07-15T17:40:30.470211",
     "status": "completed"
    },
    "tags": []
   },
   "outputs": [
    {
     "name": "stdout",
     "output_type": "stream",
     "text": [
      "{'max_depth': 10}\n"
     ]
    }
   ],
   "source": [
    "print(grid_search.best_params_)"
   ]
  },
  {
   "cell_type": "code",
   "execution_count": 16,
   "id": "d8bacc1b",
   "metadata": {
    "execution": {
     "iopub.execute_input": "2025-07-15T17:40:30.491791Z",
     "iopub.status.busy": "2025-07-15T17:40:30.491466Z",
     "iopub.status.idle": "2025-07-15T17:40:30.503850Z",
     "shell.execute_reply": "2025-07-15T17:40:30.502907Z"
    },
    "papermill": {
     "duration": 0.018934,
     "end_time": "2025-07-15T17:40:30.505578",
     "exception": false,
     "start_time": "2025-07-15T17:40:30.486644",
     "status": "completed"
    },
    "tags": []
   },
   "outputs": [],
   "source": [
    "decision_tree_best = grid_search.best_estimator_\n",
    "prob = decision_tree_best.predict_proba(X_test)[:, 1]"
   ]
  },
  {
   "cell_type": "code",
   "execution_count": 17,
   "id": "f2aa99d6",
   "metadata": {
    "execution": {
     "iopub.execute_input": "2025-07-15T17:40:30.516206Z",
     "iopub.status.busy": "2025-07-15T17:40:30.515331Z",
     "iopub.status.idle": "2025-07-15T17:40:30.549714Z",
     "shell.execute_reply": "2025-07-15T17:40:30.548738Z"
    },
    "papermill": {
     "duration": 0.041068,
     "end_time": "2025-07-15T17:40:30.551197",
     "exception": false,
     "start_time": "2025-07-15T17:40:30.510129",
     "status": "completed"
    },
    "tags": []
   },
   "outputs": [
    {
     "name": "stdout",
     "output_type": "stream",
     "text": [
      "AUC Score: 0.7159\n",
      "Log Loss: 0.4202\n"
     ]
    }
   ],
   "source": [
    "from sklearn.metrics import roc_auc_score, log_loss\n",
    "auc = roc_auc_score(Y_test, prob)\n",
    "loss = log_loss(Y_test, prob)\n",
    "\n",
    "print(f\"AUC Score: {auc:.4f}\")\n",
    "print(f\"Log Loss: {loss:.4f}\")"
   ]
  }
 ],
 "metadata": {
  "kaggle": {
   "accelerator": "none",
   "dataSources": [
    {
     "databundleVersionId": 44256,
     "sourceId": 4120,
     "sourceType": "competition"
    }
   ],
   "dockerImageVersionId": 31089,
   "isGpuEnabled": false,
   "isInternetEnabled": true,
   "language": "python",
   "sourceType": "notebook"
  },
  "kernelspec": {
   "display_name": ".venv",
   "language": "python",
   "name": "python3"
  },
  "language_info": {
   "codemirror_mode": {
    "name": "ipython",
    "version": 3
   },
   "file_extension": ".py",
   "mimetype": "text/x-python",
   "name": "python",
   "nbconvert_exporter": "python",
   "pygments_lexer": "ipython3",
   "version": "3.13.2"
  },
  "papermill": {
   "default_parameters": {},
   "duration": 57.631593,
   "end_time": "2025-07-15T17:40:33.175587",
   "environment_variables": {},
   "exception": null,
   "input_path": "__notebook__.ipynb",
   "output_path": "__notebook__.ipynb",
   "parameters": {},
   "start_time": "2025-07-15T17:39:35.543994",
   "version": "2.6.0"
  }
 },
 "nbformat": 4,
 "nbformat_minor": 5
}
